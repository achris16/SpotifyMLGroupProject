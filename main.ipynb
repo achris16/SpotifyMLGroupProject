{
  "nbformat": 4,
  "nbformat_minor": 0,
  "metadata": {
    "colab": {
      "name": "CS4661-Final-Project.ipynb",
      "provenance": []
    },
    "kernelspec": {
      "name": "python3",
      "display_name": "Python 3"
    },
    "language_info": {
      "name": "python"
    }
  },
  "cells": [
    {
      "cell_type": "markdown",
      "metadata": {
        "id": "xf052Ox8zVwD"
      },
      "source": [
        "# Spotify Top 100 Songs\n",
        "\n",
        "### Overview:\n",
        "In this study, we will use data sources containing top song information [*Insert year range once confirmed*] according to **Spotify's Top 100 Songs** list along with other data sources containing awards and artist information to construct a machine learning model. The goal of the project is to form a machine learning model to make predictions on how new songs will perform on Spotify Top Song charts.\n",
        "</br></br>\n",
        "\n",
        "---\n",
        "</br>\n",
        "\n",
        "*Maybe explain here the model, data sources used, details/overview, etc.. once established*\n",
        "\n",
        "</br>\n",
        "\n",
        "---\n",
        "\n",
        "### Group Members\n",
        "* Jaquan Jones\n",
        "* Marie Karibyan\n",
        "* Hagop (Christian) Arabian\n",
        "* Nicol Barrios\n",
        "* Ani Movsesian\n",
        "</br></br>\n"
      ]
    },
    {
      "cell_type": "markdown",
      "metadata": {
        "id": "2BITeRNYGp9e"
      },
      "source": [
        "\n",
        "* Link to Spotify Top Song Data set\n",
        "\n",
        "https://www.kaggle.com/leonardopena/top-spotify-songs-from-20102019-by-year?select=top10s.csv"
      ]
    },
    {
      "cell_type": "code",
      "metadata": {
        "id": "yf4LUDT8v9td"
      },
      "source": [
        "# base imports\n",
        "import numpy as np\n",
        "import pandas as pd\n",
        "\n",
        "# ***determine which sklearn imports will be required here***\n",
        "# from sklearn.neighbors import *\n"
      ],
      "execution_count": null,
      "outputs": []
    }
  ]
}